{
 "cells": [
  {
   "cell_type": "code",
   "execution_count": null,
   "id": "891d0c0d",
   "metadata": {},
   "outputs": [],
   "source": [
    "# main_graph.py\n",
    "\n",
    "from pydantic import BaseModel\n",
    "from typing import Optional, Tuple\n",
    "\n",
    "from langgraph.graph import StateGraph, START, END\n",
    "from ingestion_agent import ingestion_agent\n",
    "from file_scan_agent.file_scan_agent import scan_all_files\n",
    "\n",
    "# assume you’ve already built & compiled your graph:\n",
    "#   graph = builder.compile()\n",
    "\n",
    "\n",
    "class MainState(BaseModel):\n",
    "    # inputs\n",
    "    owner: str\n",
    "    repo: str\n",
    "    branch: str\n",
    "\n",
    "    # populated by ingest_node\n",
    "    ingestion_result: Optional[Tuple[str, str]] = None\n",
    "\n",
    "\n",
    "def ingest_node(state: MainState) -> dict:\n",
    "    \"\"\"\n",
    "    1) Ingest code and issues via your existing agent.\n",
    "    2) Store the tuple of (repo_message, issues_message) in state.\n",
    "    \"\"\"\n",
    "    repo_msg, issues_msg = ingestion_agent(state.owner, state.repo, state.branch)\n",
    "    return {\"ingestion_result\": (repo_msg, issues_msg)}\n",
    "\n",
    "\n",
    "def scan_node(state: MainState) -> dict:\n",
    "    \"\"\"\n",
    "    1) Kick off your file-scan routine.\n",
    "    2) (You could return a summary here if you modify scan_all_files to return one.)\n",
    "    \"\"\"\n",
    "    scan_all_files()\n",
    "    return {}\n",
    "\n",
    "\n",
    "# Build the graph\n",
    "builder = StateGraph(MainState)\n",
    "builder.add_node(ingest_node)\n",
    "builder.add_node(scan_node)\n",
    "\n",
    "# Define control flow: START → ingest_node → scan_node → END\n",
    "builder.add_edge(START, ingest_node.__name__)\n",
    "builder.add_edge(ingest_node.__name__, scan_node.__name__)\n",
    "builder.add_edge(scan_node.__name__, END)\n",
    "\n",
    "graph = builder.compile()\n",
    "\n"
   ]
  },
  {
   "cell_type": "code",
   "execution_count": null,
   "id": "36ad2a01",
   "metadata": {},
   "outputs": [
    {
     "ename": "ImportError",
     "evalue": "Install pygraphviz to draw graphs: `pip install pygraphviz`.",
     "output_type": "error",
     "traceback": [
      "\u001b[31m---------------------------------------------------------------------------\u001b[39m",
      "\u001b[31mModuleNotFoundError\u001b[39m                       Traceback (most recent call last)",
      "\u001b[36mFile \u001b[39m\u001b[32mc:\\Users\\nhleo\\Downloads\\TechDebtFix\\.venv\\Lib\\site-packages\\langchain_core\\runnables\\graph_png.py:138\u001b[39m, in \u001b[36mPngDrawer.draw\u001b[39m\u001b[34m(self, graph, output_path)\u001b[39m\n\u001b[32m    137\u001b[39m \u001b[38;5;28;01mtry\u001b[39;00m:\n\u001b[32m--> \u001b[39m\u001b[32m138\u001b[39m     \u001b[38;5;28;01mimport\u001b[39;00m\u001b[38;5;250m \u001b[39m\u001b[34;01mpygraphviz\u001b[39;00m\u001b[38;5;250m \u001b[39m\u001b[38;5;28;01mas\u001b[39;00m\u001b[38;5;250m \u001b[39m\u001b[34;01mpgv\u001b[39;00m  \u001b[38;5;66;03m# type: ignore[import-not-found]\u001b[39;00m\n\u001b[32m    139\u001b[39m \u001b[38;5;28;01mexcept\u001b[39;00m \u001b[38;5;167;01mImportError\u001b[39;00m \u001b[38;5;28;01mas\u001b[39;00m exc:\n",
      "\u001b[31mModuleNotFoundError\u001b[39m: No module named 'pygraphviz'",
      "\nThe above exception was the direct cause of the following exception:\n",
      "\u001b[31mImportError\u001b[39m                               Traceback (most recent call last)",
      "\u001b[36mCell\u001b[39m\u001b[36m \u001b[39m\u001b[32mIn[4]\u001b[39m\u001b[32m, line 3\u001b[39m\n\u001b[32m      1\u001b[39m \u001b[38;5;28;01mfrom\u001b[39;00m\u001b[38;5;250m \u001b[39m\u001b[34;01mIPython\u001b[39;00m\u001b[34;01m.\u001b[39;00m\u001b[34;01mdisplay\u001b[39;00m\u001b[38;5;250m \u001b[39m\u001b[38;5;28;01mimport\u001b[39;00m Image\n\u001b[32m----> \u001b[39m\u001b[32m3\u001b[39m Image(\u001b[43mgraph\u001b[49m\u001b[43m.\u001b[49m\u001b[43mget_graph\u001b[49m\u001b[43m(\u001b[49m\u001b[43m)\u001b[49m\u001b[43m.\u001b[49m\u001b[43mdraw_png\u001b[49m\u001b[43m(\u001b[49m\u001b[43m)\u001b[49m)\n",
      "\u001b[36mFile \u001b[39m\u001b[32mc:\\Users\\nhleo\\Downloads\\TechDebtFix\\.venv\\Lib\\site-packages\\langchain_core\\runnables\\graph.py:566\u001b[39m, in \u001b[36mGraph.draw_png\u001b[39m\u001b[34m(self, output_file_path, fontname, labels)\u001b[39m\n\u001b[32m    553\u001b[39m \u001b[38;5;28;01mfrom\u001b[39;00m\u001b[38;5;250m \u001b[39m\u001b[34;01mlangchain_core\u001b[39;00m\u001b[34;01m.\u001b[39;00m\u001b[34;01mrunnables\u001b[39;00m\u001b[34;01m.\u001b[39;00m\u001b[34;01mgraph_png\u001b[39;00m\u001b[38;5;250m \u001b[39m\u001b[38;5;28;01mimport\u001b[39;00m PngDrawer\n\u001b[32m    555\u001b[39m default_node_labels = {node.id: node.name \u001b[38;5;28;01mfor\u001b[39;00m node \u001b[38;5;129;01min\u001b[39;00m \u001b[38;5;28mself\u001b[39m.nodes.values()}\n\u001b[32m    557\u001b[39m \u001b[38;5;28;01mreturn\u001b[39;00m \u001b[43mPngDrawer\u001b[49m\u001b[43m(\u001b[49m\n\u001b[32m    558\u001b[39m \u001b[43m    \u001b[49m\u001b[43mfontname\u001b[49m\u001b[43m,\u001b[49m\n\u001b[32m    559\u001b[39m \u001b[43m    \u001b[49m\u001b[43mLabelsDict\u001b[49m\u001b[43m(\u001b[49m\n\u001b[32m    560\u001b[39m \u001b[43m        \u001b[49m\u001b[43mnodes\u001b[49m\u001b[43m=\u001b[49m\u001b[43m{\u001b[49m\n\u001b[32m    561\u001b[39m \u001b[43m            \u001b[49m\u001b[43m*\u001b[49m\u001b[43m*\u001b[49m\u001b[43mdefault_node_labels\u001b[49m\u001b[43m,\u001b[49m\n\u001b[32m    562\u001b[39m \u001b[43m            \u001b[49m\u001b[43m*\u001b[49m\u001b[43m*\u001b[49m\u001b[43m(\u001b[49m\u001b[43mlabels\u001b[49m\u001b[43m[\u001b[49m\u001b[33;43m\"\u001b[39;49m\u001b[33;43mnodes\u001b[39;49m\u001b[33;43m\"\u001b[39;49m\u001b[43m]\u001b[49m\u001b[43m \u001b[49m\u001b[38;5;28;43;01mif\u001b[39;49;00m\u001b[43m \u001b[49m\u001b[43mlabels\u001b[49m\u001b[43m \u001b[49m\u001b[38;5;129;43;01mis\u001b[39;49;00m\u001b[43m \u001b[49m\u001b[38;5;129;43;01mnot\u001b[39;49;00m\u001b[43m \u001b[49m\u001b[38;5;28;43;01mNone\u001b[39;49;00m\u001b[43m \u001b[49m\u001b[38;5;28;43;01melse\u001b[39;49;00m\u001b[43m \u001b[49m\u001b[43m{\u001b[49m\u001b[43m}\u001b[49m\u001b[43m)\u001b[49m\u001b[43m,\u001b[49m\n\u001b[32m    563\u001b[39m \u001b[43m        \u001b[49m\u001b[43m}\u001b[49m\u001b[43m,\u001b[49m\n\u001b[32m    564\u001b[39m \u001b[43m        \u001b[49m\u001b[43medges\u001b[49m\u001b[43m=\u001b[49m\u001b[43mlabels\u001b[49m\u001b[43m[\u001b[49m\u001b[33;43m\"\u001b[39;49m\u001b[33;43medges\u001b[39;49m\u001b[33;43m\"\u001b[39;49m\u001b[43m]\u001b[49m\u001b[43m \u001b[49m\u001b[38;5;28;43;01mif\u001b[39;49;00m\u001b[43m \u001b[49m\u001b[43mlabels\u001b[49m\u001b[43m \u001b[49m\u001b[38;5;129;43;01mis\u001b[39;49;00m\u001b[43m \u001b[49m\u001b[38;5;129;43;01mnot\u001b[39;49;00m\u001b[43m \u001b[49m\u001b[38;5;28;43;01mNone\u001b[39;49;00m\u001b[43m \u001b[49m\u001b[38;5;28;43;01melse\u001b[39;49;00m\u001b[43m \u001b[49m\u001b[43m{\u001b[49m\u001b[43m}\u001b[49m\u001b[43m,\u001b[49m\n\u001b[32m    565\u001b[39m \u001b[43m    \u001b[49m\u001b[43m)\u001b[49m\u001b[43m,\u001b[49m\n\u001b[32m--> \u001b[39m\u001b[32m566\u001b[39m \u001b[43m\u001b[49m\u001b[43m)\u001b[49m\u001b[43m.\u001b[49m\u001b[43mdraw\u001b[49m\u001b[43m(\u001b[49m\u001b[38;5;28;43mself\u001b[39;49m\u001b[43m,\u001b[49m\u001b[43m \u001b[49m\u001b[43moutput_file_path\u001b[49m\u001b[43m)\u001b[49m\n",
      "\u001b[36mFile \u001b[39m\u001b[32mc:\\Users\\nhleo\\Downloads\\TechDebtFix\\.venv\\Lib\\site-packages\\langchain_core\\runnables\\graph_png.py:141\u001b[39m, in \u001b[36mPngDrawer.draw\u001b[39m\u001b[34m(self, graph, output_path)\u001b[39m\n\u001b[32m    139\u001b[39m \u001b[38;5;28;01mexcept\u001b[39;00m \u001b[38;5;167;01mImportError\u001b[39;00m \u001b[38;5;28;01mas\u001b[39;00m exc:\n\u001b[32m    140\u001b[39m     msg = \u001b[33m\"\u001b[39m\u001b[33mInstall pygraphviz to draw graphs: `pip install pygraphviz`.\u001b[39m\u001b[33m\"\u001b[39m\n\u001b[32m--> \u001b[39m\u001b[32m141\u001b[39m     \u001b[38;5;28;01mraise\u001b[39;00m \u001b[38;5;167;01mImportError\u001b[39;00m(msg) \u001b[38;5;28;01mfrom\u001b[39;00m\u001b[38;5;250m \u001b[39m\u001b[34;01mexc\u001b[39;00m\n\u001b[32m    143\u001b[39m \u001b[38;5;66;03m# Create a directed graph\u001b[39;00m\n\u001b[32m    144\u001b[39m viz = pgv.AGraph(directed=\u001b[38;5;28;01mTrue\u001b[39;00m, nodesep=\u001b[32m0.9\u001b[39m, ranksep=\u001b[32m1.0\u001b[39m)\n",
      "\u001b[31mImportError\u001b[39m: Install pygraphviz to draw graphs: `pip install pygraphviz`."
     ]
    }
   ],
   "source": [
    "from IPython.display import display\n",
    "import graphviz\n",
    "\n",
    "# Export the graph to the DOT format\n",
    "dot_str = graph.get_graph().to_dot()\n",
    "\n",
    "# Render inline (or call .render() to write a file)\n",
    "src = graphviz.Source(dot_str)\n",
    "display(src)\n"
   ]
  },
  {
   "cell_type": "code",
   "execution_count": null,
   "id": "24c1be15",
   "metadata": {},
   "outputs": [],
   "source": [
    "# Kick it off—you only need to supply owner, repo, and branch.\n",
    "output = graph.invoke({\n",
    "    \"owner\": \"leonard658\",\n",
    "    \"repo\": \"CustomLearnAi\",\n",
    "    \"branch\": \"main\"\n",
    "})\n",
    "print(output)"
   ]
  }
 ],
 "metadata": {
  "kernelspec": {
   "display_name": ".venv",
   "language": "python",
   "name": "python3"
  },
  "language_info": {
   "codemirror_mode": {
    "name": "ipython",
    "version": 3
   },
   "file_extension": ".py",
   "mimetype": "text/x-python",
   "name": "python",
   "nbconvert_exporter": "python",
   "pygments_lexer": "ipython3",
   "version": "3.11.9"
  }
 },
 "nbformat": 4,
 "nbformat_minor": 5
}
