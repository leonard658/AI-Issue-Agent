{
 "cells": [
  {
   "cell_type": "code",
   "execution_count": null,
   "id": "891d0c0d",
   "metadata": {},
   "outputs": [],
   "source": [
    "# main_graph.py\n",
    "\n",
    "from pydantic import BaseModel\n",
    "from typing import Optional, Tuple\n",
    "\n",
    "from langgraph.graph import StateGraph, START, END\n",
    "from ingestion_agent import ingestion_agent\n",
    "from file_scan_agent.file_scan_agent import scan_all_files\n",
    "\n",
    "# assume you’ve already built & compiled your graph:\n",
    "#   graph = builder.compile()\n",
    "\n",
    "\n",
    "class MainState(BaseModel):\n",
    "    # inputs\n",
    "    owner: str\n",
    "    repo: str\n",
    "    branch: str\n",
    "\n",
    "    # populated by ingest_node\n",
    "    ingestion_result: Optional[Tuple[str, str]] = None\n",
    "\n",
    "\n",
    "def ingest_node(state: MainState) -> dict:\n",
    "    \"\"\"\n",
    "    1) Ingest code and issues via your existing agent.\n",
    "    2) Store the tuple of (repo_message, issues_message) in state.\n",
    "    \"\"\"\n",
    "    repo_msg, issues_msg = ingestion_agent(state.owner, state.repo, state.branch)\n",
    "    return {\"ingestion_result\": (repo_msg, issues_msg)}\n",
    "\n",
    "\n",
    "def scan_node(state: MainState) -> dict:\n",
    "    \"\"\"\n",
    "    1) Kick off your file-scan routine.\n",
    "    2) (You could return a summary here if you modify scan_all_files to return one.)\n",
    "    \"\"\"\n",
    "    scan_all_files()\n",
    "    return {}\n",
    "\n",
    "\n",
    "# Build the graph\n",
    "builder = StateGraph(MainState)\n",
    "builder.add_node(ingest_node)\n",
    "builder.add_node(scan_node)\n",
    "\n",
    "# Define control flow: START → ingest_node → scan_node → END\n",
    "builder.add_edge(START, ingest_node.__name__)\n",
    "builder.add_edge(ingest_node.__name__, scan_node.__name__)\n",
    "builder.add_edge(scan_node.__name__, END)\n",
    "\n",
    "graph = builder.compile()\n",
    "\n"
   ]
  },
  {
   "cell_type": "code",
   "execution_count": 5,
   "id": "36ad2a01",
   "metadata": {},
   "outputs": [
    {
     "ename": "AttributeError",
     "evalue": "'Graph' object has no attribute 'to_dot'",
     "output_type": "error",
     "traceback": [
      "\u001b[31m---------------------------------------------------------------------------\u001b[39m",
      "\u001b[31mAttributeError\u001b[39m                            Traceback (most recent call last)",
      "\u001b[36mCell\u001b[39m\u001b[36m \u001b[39m\u001b[32mIn[5]\u001b[39m\u001b[32m, line 5\u001b[39m\n\u001b[32m      2\u001b[39m \u001b[38;5;28;01mimport\u001b[39;00m\u001b[38;5;250m \u001b[39m\u001b[34;01mgraphviz\u001b[39;00m\n\u001b[32m      4\u001b[39m \u001b[38;5;66;03m# Export the graph to the DOT format\u001b[39;00m\n\u001b[32m----> \u001b[39m\u001b[32m5\u001b[39m dot_str = \u001b[43mgraph\u001b[49m\u001b[43m.\u001b[49m\u001b[43mget_graph\u001b[49m\u001b[43m(\u001b[49m\u001b[43m)\u001b[49m\u001b[43m.\u001b[49m\u001b[43mto_dot\u001b[49m()\n\u001b[32m      7\u001b[39m \u001b[38;5;66;03m# Render inline (or call .render() to write a file)\u001b[39;00m\n\u001b[32m      8\u001b[39m src = graphviz.Source(dot_str)\n",
      "\u001b[31mAttributeError\u001b[39m: 'Graph' object has no attribute 'to_dot'"
     ]
    }
   ],
   "source": [
    "from IPython.display import display\n",
    "import graphviz\n",
    "\n",
    "# Export the graph to the DOT format\n",
    "dot_str = graph.get_graph().to_dot()\n",
    "\n",
    "# Render inline (or call .render() to write a file)\n",
    "src = graphviz.Source(dot_str)\n",
    "display(src)\n"
   ]
  },
  {
   "cell_type": "code",
   "execution_count": null,
   "id": "24c1be15",
   "metadata": {},
   "outputs": [],
   "source": [
    "# Kick it off—you only need to supply owner, repo, and branch.\n",
    "output = graph.invoke({\n",
    "    \"owner\": \"leonard658\",\n",
    "    \"repo\": \"CustomLearnAi\",\n",
    "    \"branch\": \"main\"\n",
    "})\n",
    "print(output)"
   ]
  }
 ],
 "metadata": {
  "kernelspec": {
   "display_name": ".venv",
   "language": "python",
   "name": "python3"
  },
  "language_info": {
   "codemirror_mode": {
    "name": "ipython",
    "version": 3
   },
   "file_extension": ".py",
   "mimetype": "text/x-python",
   "name": "python",
   "nbconvert_exporter": "python",
   "pygments_lexer": "ipython3",
   "version": "3.11.9"
  }
 },
 "nbformat": 4,
 "nbformat_minor": 5
}
